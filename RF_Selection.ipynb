{
 "cells": [
  {
   "cell_type": "code",
   "execution_count": 2,
   "metadata": {},
   "outputs": [],
   "source": [
    "import pandas as pd\n",
    "import numpy as np\n",
    "from sklearn.model_selection import train_test_split\n",
    "import matplotlib.pyplot as plt\n",
    "from sklearn.ensemble import RandomForestRegressor\n",
    "from sklearn.feature_selection import SelectFromModel"
   ]
  },
  {
   "cell_type": "markdown",
   "metadata": {},
   "source": [
    "Read the dataframe and rename the columns. We don't need feature scaling because the random forest will not be affected by not doing so."
   ]
  },
  {
   "cell_type": "code",
   "execution_count": 3,
   "metadata": {},
   "outputs": [],
   "source": [
    "header_list = ['SpMax_L', 'J_Dz(e)', 'nHM', 'F01[N-N]', 'F04[C-N]','NssssC', 'nCb-', 'C%', 'nCp', 'nO', 'F03[C-N]',\n",
    "               'SdssC', 'HyWi_B(m)', 'LOC', 'SM6_L', 'F03[C-O]', 'Me', 'Mi', 'nN-N', 'nArNO2', 'nCRX3', 'SpPosA_B(p)', \n",
    "              'nCIR', 'B01[C-Br]', 'B03[C-Cl]', 'N-073', 'SpMax_A', 'Psi_i_1d', 'B04[C-Br]', 'SdO' , 'TI2_L', 'nCrt',\n",
    "               'C-026', 'F02[C-N]', 'nHDon', 'SpMax_B(m)', 'Psi_i_A', 'nN', 'SM6_B(m)', 'nArCOOR', 'nX', 'TARGET']\n",
    "df = pd.read_csv('BioDegData.csv', names = header_list)\n",
    "X, y = df.iloc[:, 0:-1].values, df.iloc[:, -1].values\n",
    "X_train, X_test, y_train, y_test = train_test_split(X, y, test_size=0.2, random_state=1, stratify=y)"
   ]
  },
  {
   "cell_type": "markdown",
   "metadata": {},
   "source": [
    "Apply a RandomForestRegressor to find a set of most significant features."
   ]
  },
  {
   "cell_type": "code",
   "execution_count": 6,
   "metadata": {},
   "outputs": [
    {
     "name": "stdout",
     "output_type": "stream",
     "text": [
      " 1) SpMax_B(m)                     0.272272\n",
      " 2) SpMax_L                        0.056210\n",
      " 3) SpPosA_B(p)                    0.051055\n",
      " 4) Psi_i_A                        0.043018\n",
      " 5) Mi                             0.038557\n",
      " 6) F02[C-N]                       0.037755\n",
      " 7) SM6_B(m)                       0.037714\n",
      " 8) SdssC                          0.035506\n",
      " 9) nN                             0.034265\n",
      "10) SpMax_A                        0.032200\n",
      "11) SdO                            0.031823\n",
      "12) J_Dz(e)                        0.031405\n",
      "13) HyWi_B(m)                      0.023663\n",
      "14) nCp                            0.023462\n",
      "15) LOC                            0.023115\n",
      "16) TI2_L                          0.022513\n",
      "17) Me                             0.022283\n",
      "18) C%                             0.021099\n",
      "19) F03[C-O]                       0.020448\n",
      "20) SM6_L                          0.019571\n",
      "21) nArCOOR                        0.019237\n",
      "22) Psi_i_1d                       0.018879\n",
      "23) nO                             0.013886\n",
      "24) F03[C-N]                       0.012331\n",
      "25) NssssC                         0.009397\n",
      "26) nHDon                          0.008409\n",
      "27) F04[C-N]                       0.007409\n",
      "28) nX                             0.006818\n",
      "29) nCrt                           0.006012\n",
      "30) nCb-                           0.004120\n",
      "31) nCIR                           0.003615\n",
      "32) C-026                          0.003335\n",
      "33) nHM                            0.003070\n",
      "34) B03[C-Cl]                      0.001579\n",
      "35) F01[N-N]                       0.001474\n",
      "36) nN-N                           0.000786\n",
      "37) nArNO2                         0.000561\n",
      "38) B01[C-Br]                      0.000548\n",
      "39) B04[C-Br]                      0.000545\n",
      "40) nCRX3                          0.000048\n",
      "41) N-073                          0.000008\n",
      "Number of features that meet threshold of 0.03 is 12 including\n",
      "SpMax_B(m)\n",
      "SpMax_L\n",
      "SpPosA_B(p)\n",
      "Psi_i_A\n",
      "Mi\n",
      "F02[C-N]\n",
      "SM6_B(m)\n",
      "SdssC\n",
      "nN\n",
      "SpMax_A\n",
      "SdO\n",
      "J_Dz(e)\n"
     ]
    },
    {
     "data": {
      "image/png": "[encoded data removed]",
      "text/plain": [
       "<Figure size 432x288 with 1 Axes>"
      ]
     },
     "metadata": {
      "needs_background": "light"
     },
     "output_type": "display_data"
    }
   ],
   "source": [
    "forest = RandomForestRegressor(n_estimators=500, random_state=1)\n",
    "\n",
    "forest.fit(X_train, y_train)\n",
    "importances = forest.feature_importances_\n",
    "features = df.columns[0:-1]\n",
    "indices = np.argsort(importances)[::-1]\n",
    "\n",
    "for f in range(X_train.shape[1]):\n",
    "    print(\"%2d) %-*s %f\" % (f + 1, 30, \n",
    "                            features[indices[f]],\n",
    "                            importances[indices[f]]))\n",
    "\n",
    "plt.title('Feature Importance')\n",
    "plt.bar(range(X_train.shape[1]), \n",
    "        importances[indices],\n",
    "        align='center')\n",
    "\n",
    "plt.xticks(range(X_train.shape[1]), \n",
    "           features[indices], rotation=90)\n",
    "plt.xlim([-1, X_train.shape[1]])\n",
    "plt.tight_layout()\n",
    "plt.savefig('figs/FeatureImportances.png', dpi=300)\n",
    "\n",
    "sfm = SelectFromModel(forest, threshold=0.03, prefit=True)\n",
    "X_selected = sfm.transform(X_train)\n",
    "print('Number of features that meet threshold of 0.03 is', X_selected.shape[1], 'including')\n",
    "for f in range(X_selected.shape[1]):\n",
    "    print(\"%2d) %-*s %f\" % (f + 1, 30, features[indices[f]], importances[indices[f]]))"
   ]
  },
  {
   "cell_type": "code",
   "execution_count": null,
   "metadata": {},
   "outputs": [],
   "source": []
  }
 ],
 "metadata": {
  "kernelspec": {
   "display_name": "Python 3",
   "language": "python",
   "name": "python3"
  },
  "language_info": {
   "codemirror_mode": {
    "name": "ipython",
    "version": 3
   },
   "file_extension": ".py",
   "mimetype": "text/x-python",
   "name": "python",
   "nbconvert_exporter": "python",
   "pygments_lexer": "ipython3",
   "version": "3.7.0"
  }
 },
 "nbformat": 4,
 "nbformat_minor": 2
}
