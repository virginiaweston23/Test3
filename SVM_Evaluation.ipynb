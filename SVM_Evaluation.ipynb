{
 "cells": [
  {
   "cell_type": "code",
   "execution_count": 58,
   "metadata": {},
   "outputs": [],
   "source": [
    "import pandas as pd\n",
    "from sklearn.model_selection import train_test_split\n",
    "from sklearn.preprocessing import StandardScaler\n",
    "from sklearn.preprocessing import MinMaxScaler\n",
    "from sklearn.decomposition import PCA\n",
    "from sklearn.discriminant_analysis import LinearDiscriminantAnalysis\n",
    "from sklearn.pipeline import make_pipeline\n",
    "import numpy as np\n",
    "from sklearn.model_selection import StratifiedKFold\n",
    "from sklearn.model_selection import cross_val_score\n",
    "import matplotlib.pyplot as plt\n",
    "from sklearn.model_selection import GridSearchCV\n",
    "from sklearn.svm import SVC\n",
    "from sklearn.metrics import confusion_matrix\n",
    "from sklearn.metrics import accuracy_score\n",
    "from sklearn.metrics import precision_score, recall_score, f1_score"
   ]
  },
  {
   "cell_type": "markdown",
   "metadata": {},
   "source": [
    "Read the dataframe from the CSV file. We first try using 12 features selected by the Random Forest. The train-validation-test split is set at 60-20-20 ."
   ]
  },
  {
   "cell_type": "code",
   "execution_count": 41,
   "metadata": {},
   "outputs": [],
   "source": [
    "header_list = ['SpMax_L', 'J_Dz(e)', 'nHM', 'F01[N-N]', 'F04[C-N]','NssssC', 'nCb-', 'C%', 'nCp', 'nO', 'F03[C-N]',\n",
    "               'SdssC', 'HyWi_B(m)', 'LOC', 'SM6_L', 'F03[C-O]', 'Me', 'Mi', 'nN-N', 'nArNO2', 'nCRX3', 'SpPosA_B(p)', \n",
    "              'nCIR', 'B01[C-Br]', 'B03[C-Cl]', 'N-073', 'SpMax_A', 'Psi_i_1d', 'B04[C-Br]', 'SdO' , 'TI2_L', 'nCrt',\n",
    "               'C-026', 'F02[C-N]', 'nHDon', 'SpMax_B(m)', 'Psi_i_A', 'nN', 'SM6_B(m)', 'nArCOOR', 'nX', 'TARGET']\n",
    "df = pd.read_csv('BioDegData.csv', names = header_list)\n",
    "X = df[['SpMax_B(m)','SpMax_L','SpPosA_B(p)','Psi_i_A','Mi','F02[C-N]','SM6_B(m)','SdssC','nN','SpMax_A','SdO','J_Dz(e)']]\n",
    "y = df.iloc[:, -1].values\n",
    "X_train, X_test, y_train, y_test = train_test_split(X, y, test_size=0.2, stratify=y, random_state=1)\n",
    "X_train, X_val, y_train, y_val = train_test_split(X_train, y_train, test_size=0.25, random_state=1)"
   ]
  },
  {
   "cell_type": "code",
   "execution_count": 42,
   "metadata": {},
   "outputs": [
    {
     "name": "stdout",
     "output_type": "stream",
     "text": [
      "0.8405257936507937\n",
      "{'svc__C': 10.0, 'svc__gamma': 10.0, 'svc__kernel': 'rbf'}\n"
     ]
    }
   ],
   "source": [
    "pipe_gs = make_pipeline(StandardScaler(), MinMaxScaler(), SVC(random_state=1))\n",
    "param_range = [0.0001, 0.001, 0.01, 0.1, 1.0, 10.0, 100.0, 1000.0]\n",
    "param_grid = [{'svc__C': param_range, 'svc__kernel': ['linear']}, \n",
    "              {'svc__C': param_range, 'svc__gamma': param_range, 'svc__kernel': ['rbf']}]\n",
    "gs = GridSearchCV(estimator=pipe_gs, param_grid=param_grid, scoring='accuracy', refit=True, cv=10, n_jobs=-1)\n",
    "gs = gs.fit(X_train, y_train)\n",
    "print(gs.best_score_)\n",
    "print(gs.best_params_)"
   ]
  },
  {
   "cell_type": "code",
   "execution_count": 43,
   "metadata": {},
   "outputs": [
    {
     "name": "stdout",
     "output_type": "stream",
     "text": [
      "CV accuracy scores: [0.95454545 0.9047619  0.76190476 0.85714286 0.85714286 0.80952381\n",
      " 0.9047619  0.80952381 0.85714286 0.9047619 ]\n",
      "CV accuracy: 0.862 +/- 0.054\n"
     ]
    }
   ],
   "source": [
    "clf = gs.best_estimator_\n",
    "scores = cross_val_score(estimator=clf, X=X_val, y=y_val, cv=10, n_jobs=1)\n",
    "print('CV accuracy scores: %s' % scores)\n",
    "print('CV accuracy: %.3f +/- %.3f' % (np.mean(scores), np.std(scores)))"
   ]
  },
  {
   "cell_type": "code",
   "execution_count": 44,
   "metadata": {},
   "outputs": [
    {
     "name": "stdout",
     "output_type": "stream",
     "text": [
      "--------------Results using RF Selection--------------\n",
      "Accuracy score: 0.877\n",
      "Precision score: 0.836\n",
      "Recall score: 0.789\n",
      "F1 score: 0.812\n",
      "Confusion Matrix: \n",
      "[[129  11]\n",
      " [ 15  56]]\n"
     ]
    }
   ],
   "source": [
    "y_pred = clf.predict(X_test)\n",
    "print('--------------Results using RF Selection--------------')\n",
    "print('Accuracy score: %.3f' % accuracy_score(y_test, y_pred))\n",
    "print('Precision score: %.3f' % precision_score(y_test, y_pred))\n",
    "print('Recall score: %.3f' % recall_score(y_test, y_pred))\n",
    "print('F1 score: %.3f' % f1_score(y_test, y_pred))\n",
    "print('Confusion Matrix: ')\n",
    "print(confusion_matrix(y_test, y_pred))"
   ]
  },
  {
   "cell_type": "markdown",
   "metadata": {},
   "source": [
    "We try the same process using the 31 features our SBS selected."
   ]
  },
  {
   "cell_type": "code",
   "execution_count": 45,
   "metadata": {},
   "outputs": [],
   "source": [
    "X = df[['J_Dz(e)', 'nHM', 'F01[N-N]', 'F04[C-N]', 'nCb-', 'C%', 'nCp', 'nO',\n",
    "       'F03[C-N]', 'SdssC', 'HyWi_B(m)', 'LOC', 'SM6_L', 'F03[C-O]', 'Me',\n",
    "       'Mi', 'nArNO2', 'nCRX3', 'SpPosA_B(p)', 'B01[C-Br]', 'Psi_i_1d',\n",
    "       'TI2_L', 'C-026', 'F02[C-N]', 'nHDon', 'SpMax_B(m)', 'Psi_i_A', 'nN',\n",
    "       'SM6_B(m)', 'nArCOOR', 'nX']]\n",
    "X_train, X_test, y_train, y_test = train_test_split(X, y, test_size=0.2, stratify=y, random_state=1)\n",
    "X_train, X_val, y_train, y_val = train_test_split(X_train, y_train, test_size=0.25, random_state=1)"
   ]
  },
  {
   "cell_type": "code",
   "execution_count": 46,
   "metadata": {},
   "outputs": [
    {
     "name": "stdout",
     "output_type": "stream",
     "text": [
      "0.8674107142857144\n",
      "{'svc__C': 10.0, 'svc__gamma': 1.0, 'svc__kernel': 'rbf'}\n"
     ]
    }
   ],
   "source": [
    "pipe_gs = make_pipeline(StandardScaler(), MinMaxScaler(), SVC(random_state=1))\n",
    "param_range = [0.0001, 0.001, 0.01, 0.1, 1.0, 10.0, 100.0, 1000.0]\n",
    "param_grid = [{'svc__C': param_range, 'svc__kernel': ['linear']}, \n",
    "              {'svc__C': param_range, 'svc__gamma': param_range, 'svc__kernel': ['rbf']}]\n",
    "gs = GridSearchCV(estimator=pipe_gs, param_grid=param_grid, scoring='accuracy', refit=True, cv=10, n_jobs=-1)\n",
    "gs = gs.fit(X_train, y_train)\n",
    "print(gs.best_score_)\n",
    "print(gs.best_params_)"
   ]
  },
  {
   "cell_type": "code",
   "execution_count": 47,
   "metadata": {},
   "outputs": [
    {
     "name": "stdout",
     "output_type": "stream",
     "text": [
      "CV accuracy scores: [0.81818182 0.9047619  0.71428571 0.85714286 0.9047619  0.76190476\n",
      " 0.95238095 0.76190476 0.85714286 0.95238095]\n",
      "CV accuracy: 0.848 +/- 0.079\n"
     ]
    }
   ],
   "source": [
    "clf = gs.best_estimator_\n",
    "scores = cross_val_score(estimator=clf, X=X_val, y=y_val, cv=10, n_jobs=1)\n",
    "print('CV accuracy scores: %s' % scores)\n",
    "print('CV accuracy: %.3f +/- %.3f' % (np.mean(scores), np.std(scores)))"
   ]
  },
  {
   "cell_type": "code",
   "execution_count": 48,
   "metadata": {},
   "outputs": [
    {
     "name": "stdout",
     "output_type": "stream",
     "text": [
      "--------------Results using SBS--------------\n",
      "Accuracy score: 0.882\n",
      "Precision score: 0.848\n",
      "Recall score: 0.789\n",
      "F1 score: 0.818\n",
      "Confusion Matrix: \n",
      "[[130  10]\n",
      " [ 15  56]]\n"
     ]
    }
   ],
   "source": [
    "y_pred = clf.predict(X_test)\n",
    "print('--------------Results using SBS--------------')\n",
    "print('Accuracy score: %.3f' % accuracy_score(y_test, y_pred))\n",
    "print('Precision score: %.3f' % precision_score(y_test, y_pred))\n",
    "print('Recall score: %.3f' % recall_score(y_test, y_pred))\n",
    "print('F1 score: %.3f' % f1_score(y_test, y_pred))\n",
    "print('Confusion Matrix: ')\n",
    "print(confusion_matrix(y_test, y_pred))"
   ]
  },
  {
   "cell_type": "markdown",
   "metadata": {},
   "source": [
    "We then try the same process transforming the feature space with PCA. We include the number of PCA components in our grid search to find the best possible combination of hyperparameters."
   ]
  },
  {
   "cell_type": "code",
   "execution_count": 49,
   "metadata": {},
   "outputs": [],
   "source": [
    "X = df.iloc[:, 0:-1].values\n",
    "X_train, X_test, y_train, y_test = train_test_split(X, y, test_size=0.2, stratify=y, random_state=1)\n",
    "X_train, X_val, y_train, y_val = train_test_split(X_train, y_train, test_size=0.25, random_state=1)"
   ]
  },
  {
   "cell_type": "code",
   "execution_count": 51,
   "metadata": {},
   "outputs": [
    {
     "name": "stdout",
     "output_type": "stream",
     "text": [
      "0.8674851190476192\n",
      "{'pca__n_components': 30, 'svc__C': 100.0, 'svc__kernel': 'linear'}\n"
     ]
    }
   ],
   "source": [
    "pipe_pca = make_pipeline(StandardScaler(), MinMaxScaler(), PCA(), SVC(random_state=1))\n",
    "param_range = [0.0001, 0.001, 0.01, 0.1, 1.0, 10.0, 100.0, 1000.0]\n",
    "PCA_range = [10,20,30,40]\n",
    "param_grid = [{'svc__C': param_range, 'svc__kernel': ['linear'], 'pca__n_components': PCA_range}, \n",
    "              {'svc__C': param_range, 'svc__gamma': param_range, 'svc__kernel': ['rbf'], 'pca__n_components': PCA_range}]\n",
    "gs = GridSearchCV(estimator=pipe_pca, param_grid=param_grid, scoring='accuracy', refit=True, cv=10, n_jobs=-1)\n",
    "gs = gs.fit(X_train, y_train)\n",
    "print(gs.best_score_)\n",
    "print(gs.best_params_)"
   ]
  },
  {
   "cell_type": "code",
   "execution_count": 52,
   "metadata": {},
   "outputs": [
    {
     "name": "stdout",
     "output_type": "stream",
     "text": [
      "CV accuracy scores: [0.81818182 0.80952381 0.80952381 0.76190476 0.76190476 0.85714286\n",
      " 0.9047619  0.85714286 0.76190476 0.95238095]\n",
      "CV accuracy: 0.829 +/- 0.061\n"
     ]
    }
   ],
   "source": [
    "clf = gs.best_estimator_\n",
    "scores = cross_val_score(estimator=clf, X=X_val, y=y_val, cv=10, n_jobs=1)\n",
    "print('CV accuracy scores: %s' % scores)\n",
    "print('CV accuracy: %.3f +/- %.3f' % (np.mean(scores), np.std(scores)))"
   ]
  },
  {
   "cell_type": "code",
   "execution_count": 53,
   "metadata": {},
   "outputs": [
    {
     "name": "stdout",
     "output_type": "stream",
     "text": [
      "--------------Results using PCA--------------\n",
      "Accuracy score: 0.891\n",
      "Precision score: 0.833\n",
      "Recall score: 0.845\n",
      "F1 score: 0.839\n",
      "Confusion Matrix: \n",
      "[[128  12]\n",
      " [ 11  60]]\n"
     ]
    }
   ],
   "source": [
    "y_pred = clf.predict(X_test)\n",
    "print('--------------Results using PCA--------------')\n",
    "print('Accuracy score: %.3f' % accuracy_score(y_test, y_pred))\n",
    "print('Precision score: %.3f' % precision_score(y_test, y_pred))\n",
    "print('Recall score: %.3f' % recall_score(y_test, y_pred))\n",
    "print('F1 score: %.3f' % f1_score(y_test, y_pred))\n",
    "print('Confusion Matrix: ')\n",
    "print(confusion_matrix(y_test, y_pred))"
   ]
  },
  {
   "cell_type": "markdown",
   "metadata": {},
   "source": [
    "Same thing with LDA. We include it in the pipeline."
   ]
  },
  {
   "cell_type": "code",
   "execution_count": 54,
   "metadata": {},
   "outputs": [],
   "source": [
    "X = df.iloc[:, 0:-1].values\n",
    "X_train, X_test, y_train, y_test = train_test_split(X, y, test_size=0.2, stratify=y, random_state=1)\n",
    "X_train, X_val, y_train, y_val = train_test_split(X_train, y_train, test_size=0.25, random_state=1)"
   ]
  },
  {
   "cell_type": "code",
   "execution_count": 55,
   "metadata": {},
   "outputs": [
    {
     "name": "stdout",
     "output_type": "stream",
     "text": [
      "0.8484623015873016\n",
      "{'lineardiscriminantanalysis__solver': 'svd', 'svc__C': 10.0, 'svc__gamma': 1.0, 'svc__kernel': 'rbf'}\n"
     ]
    }
   ],
   "source": [
    "pipe_lda = make_pipeline(StandardScaler(), MinMaxScaler(), LinearDiscriminantAnalysis(n_components=1), SVC(random_state=1))\n",
    "param_range = [0.0001, 0.001, 0.01, 0.1, 1.0, 10.0, 100.0, 1000.0]\n",
    "solver_choices = ['svd', 'lsqr', 'eigen']\n",
    "param_grid = [{'svc__C': param_range, 'svc__kernel': ['linear'],'lineardiscriminantanalysis__solver': solver_choices}, \n",
    "              {'svc__C': param_range, 'svc__gamma': param_range, 'svc__kernel': ['rbf'], 'lineardiscriminantanalysis__solver': solver_choices}]\n",
    "gs = GridSearchCV(estimator=pipe_lda, param_grid=param_grid, scoring='accuracy', refit=True, cv=10, n_jobs=-1)\n",
    "gs = gs.fit(X_train, y_train)\n",
    "print(gs.best_score_)\n",
    "print(gs.best_params_)"
   ]
  },
  {
   "cell_type": "code",
   "execution_count": 56,
   "metadata": {},
   "outputs": [
    {
     "name": "stdout",
     "output_type": "stream",
     "text": [
      "CV accuracy scores: [0.72727273 0.80952381 0.66666667 0.71428571 0.80952381 0.85714286\n",
      " 0.80952381 0.80952381 0.85714286 0.85714286]\n",
      "CV accuracy: 0.792 +/- 0.063\n"
     ]
    }
   ],
   "source": [
    "clf = gs.best_estimator_\n",
    "scores = cross_val_score(estimator=clf, X=X_val, y=y_val, cv=10, n_jobs=1)\n",
    "print('CV accuracy scores: %s' % scores)\n",
    "print('CV accuracy: %.3f +/- %.3f' % (np.mean(scores), np.std(scores)))"
   ]
  },
  {
   "cell_type": "code",
   "execution_count": 57,
   "metadata": {},
   "outputs": [
    {
     "name": "stdout",
     "output_type": "stream",
     "text": [
      "--------------Results using LDA--------------\n",
      "Accuracy score: 0.858\n",
      "Precision score: 0.747\n",
      "Recall score: 0.873\n",
      "F1 score: 0.805\n",
      "Confusion Matrix: \n",
      "[[119  21]\n",
      " [  9  62]]\n"
     ]
    }
   ],
   "source": [
    "y_pred = clf.predict(X_test)\n",
    "print('--------------Results using LDA--------------')\n",
    "print('Accuracy score: %.3f' % accuracy_score(y_test, y_pred))\n",
    "print('Precision score: %.3f' % precision_score(y_test, y_pred))\n",
    "print('Recall score: %.3f' % recall_score(y_test, y_pred))\n",
    "print('F1 score: %.3f' % f1_score(y_test, y_pred))\n",
    "print('Confusion Matrix: ')\n",
    "print(confusion_matrix(y_test, y_pred))"
   ]
  }
 ],
 "metadata": {
  "kernelspec": {
   "display_name": "Python 3",
   "language": "python",
   "name": "python3"
  },
  "language_info": {
   "codemirror_mode": {
    "name": "ipython",
    "version": 3
   },
   "file_extension": ".py",
   "mimetype": "text/x-python",
   "name": "python",
   "nbconvert_exporter": "python",
   "pygments_lexer": "ipython3",
   "version": "3.7.0"
  }
 },
 "nbformat": 4,
 "nbformat_minor": 2
}
