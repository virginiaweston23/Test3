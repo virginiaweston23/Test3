{
 "cells": [
  {
   "cell_type": "code",
   "execution_count": 24,
   "metadata": {},
   "outputs": [],
   "source": [
    "import pandas as pd\n",
    "from sklearn.model_selection import train_test_split\n",
    "from sklearn.preprocessing import StandardScaler\n",
    "from sklearn.preprocessing import MinMaxScaler\n",
    "from sklearn.decomposition import PCA\n",
    "from sklearn.pipeline import make_pipeline\n",
    "import numpy as np\n",
    "from sklearn.model_selection import StratifiedKFold\n",
    "from sklearn.model_selection import cross_val_score\n",
    "import matplotlib.pyplot as plt\n",
    "from sklearn.model_selection import learning_curve\n",
    "from sklearn.model_selection import validation_curve\n",
    "from sklearn.model_selection import GridSearchCV\n",
    "from sklearn.svm import SVC\n",
    "from sklearn.metrics import confusion_matrix\n",
    "from sklearn.metrics import accuracy_score\n",
    "from sklearn.metrics import precision_score, recall_score, f1_score\n",
    "from sklearn.metrics import make_scorer\n",
    "from sklearn.metrics import roc_curve, auc\n",
    "from scipy import interp\n",
    "from sklearn.utils import resample"
   ]
  },
  {
   "cell_type": "markdown",
   "metadata": {},
   "source": [
    "Read the dataframe from the CSV file. We first try using 12 features selected by the Random Forest. The train-validation-test split is set at 60-20-20 ."
   ]
  },
  {
   "cell_type": "code",
   "execution_count": 25,
   "metadata": {},
   "outputs": [],
   "source": [
    "header_list = ['SpMax_L', 'J_Dz(e)', 'nHM', 'F01[N-N]', 'F04[C-N]','NssssC', 'nCb-', 'C%', 'nCp', 'nO', 'F03[C-N]',\n",
    "               'SdssC', 'HyWi_B(m)', 'LOC', 'SM6_L', 'F03[C-O]', 'Me', 'Mi', 'nN-N', 'nArNO2', 'nCRX3', 'SpPosA_B(p)', \n",
    "              'nCIR', 'B01[C-Br]', 'B03[C-Cl]', 'N-073', 'SpMax_A', 'Psi_i_1d', 'B04[C-Br]', 'SdO' , 'TI2_L', 'nCrt',\n",
    "               'C-026', 'F02[C-N]', 'nHDon', 'SpMax_B(m)', 'Psi_i_A', 'nN', 'SM6_B(m)', 'nArCOOR', 'nX', 'TARGET']\n",
    "df = pd.read_csv('BioDegData.csv', names = header_list)\n",
    "X = df[['SpMax_B(m)','SpMax_L','SpPosA_B(p)','Psi_i_A','Mi','F02[C-N]','SM6_B(m)','SdssC','nN','SpMax_A','SdO','J_Dz(e)']]\n",
    "y = df.iloc[:, -1].values\n",
    "X_train, X_test, y_train, y_test = train_test_split(X, y, test_size=0.2, stratify=y, random_state=1)\n",
    "X_train, X_val, y_train, y_val = train_test_split(X_train, y_train, test_size=0.25, random_state=1)"
   ]
  },
  {
   "cell_type": "code",
   "execution_count": 26,
   "metadata": {},
   "outputs": [
    {
     "name": "stdout",
     "output_type": "stream",
     "text": [
      "0.8405257936507937\n",
      "{'svc__C': 10.0, 'svc__gamma': 10.0, 'svc__kernel': 'rbf'}\n"
     ]
    }
   ],
   "source": [
    "pipe_gs = make_pipeline(StandardScaler(), MinMaxScaler(), SVC(random_state=1))\n",
    "param_range = [0.0001, 0.001, 0.01, 0.1, 1.0, 10.0, 100.0, 1000.0]\n",
    "param_grid = [{'svc__C': param_range, 'svc__kernel': ['linear']}, \n",
    "              {'svc__C': param_range, 'svc__gamma': param_range, 'svc__kernel': ['rbf']}]\n",
    "gs = GridSearchCV(estimator=pipe_gs, param_grid=param_grid, scoring='accuracy', refit=True, cv=10, n_jobs=-1)\n",
    "gs = gs.fit(X_train, y_train)\n",
    "print(gs.best_score_)\n",
    "print(gs.best_params_)"
   ]
  },
  {
   "cell_type": "code",
   "execution_count": 27,
   "metadata": {},
   "outputs": [
    {
     "name": "stdout",
     "output_type": "stream",
     "text": [
      "CV accuracy scores: [0.95454545 0.9047619  0.76190476 0.85714286 0.85714286 0.80952381\n",
      " 0.9047619  0.80952381 0.85714286 0.9047619 ]\n",
      "CV accuracy: 0.862 +/- 0.054\n"
     ]
    }
   ],
   "source": [
    "clf = gs.best_estimator_\n",
    "scores = cross_val_score(estimator=clf, X=X_val, y=y_val, cv=10, n_jobs=1)\n",
    "print('CV accuracy scores: %s' % scores)\n",
    "print('CV accuracy: %.3f +/- %.3f' % (np.mean(scores), np.std(scores)))"
   ]
  },
  {
   "cell_type": "code",
   "execution_count": 28,
   "metadata": {},
   "outputs": [
    {
     "name": "stdout",
     "output_type": "stream",
     "text": [
      "Accuracy score: 0.877\n",
      "Precision score: 0.836\n",
      "Recall score: 0.789\n",
      "F1 score: 0.812\n",
      "Confusion Matrix: \n",
      "[[129  11]\n",
      " [ 15  56]]\n"
     ]
    }
   ],
   "source": [
    "y_pred = clf.predict(X_test)\n",
    "print('Accuracy score: %.3f' % accuracy_score(y_test, y_pred))\n",
    "print('Precision score: %.3f' % precision_score(y_test, y_pred))\n",
    "print('Recall score: %.3f' % recall_score(y_test, y_pred))\n",
    "print('F1 score: %.3f' % f1_score(y_test, y_pred))\n",
    "print('Confusion Matrix: ')\n",
    "print(confusion_matrix(y_test, y_pred))"
   ]
  },
  {
   "cell_type": "markdown",
   "metadata": {},
   "source": [
    "We then try the same process transforming the feature space with PCA. We include the number of PCA components in our grid search to find the best possible combination of hyperparameters."
   ]
  },
  {
   "cell_type": "code",
   "execution_count": 29,
   "metadata": {},
   "outputs": [],
   "source": [
    "X = df.iloc[:, 0:-1].values\n",
    "X_train, X_test, y_train, y_test = train_test_split(X, y, test_size=0.2, stratify=y, random_state=1)\n",
    "X_train, X_val, y_train, y_val = train_test_split(X_train, y_train, test_size=0.25, random_state=1)"
   ]
  },
  {
   "cell_type": "code",
   "execution_count": 30,
   "metadata": {},
   "outputs": [
    {
     "name": "stdout",
     "output_type": "stream",
     "text": [
      "0.8674851190476192\n",
      "{'pca__n_components': 30, 'svc__C': 100.0, 'svc__kernel': 'linear'}\n"
     ]
    }
   ],
   "source": [
    "pipe_pca = make_pipeline(StandardScaler(), MinMaxScaler(), PCA(), SVC(random_state=1))\n",
    "param_range = [0.0001, 0.001, 0.01, 0.1, 1.0, 10.0, 100.0, 1000.0]\n",
    "PCA_range = [10,20,30,40]\n",
    "param_grid = [{'svc__C': param_range, 'svc__kernel': ['linear'], 'pca__n_components': PCA_range}, \n",
    "              {'svc__C': param_range, 'svc__gamma': param_range, 'svc__kernel': ['rbf'], 'pca__n_components': PCA_range}]\n",
    "gs = GridSearchCV(estimator=pipe_pca, param_grid=param_grid, scoring='accuracy', refit=True, cv=10, n_jobs=-1)\n",
    "gs = gs.fit(X_train, y_train)\n",
    "print(gs.best_score_)\n",
    "print(gs.best_params_)"
   ]
  },
  {
   "cell_type": "code",
   "execution_count": 31,
   "metadata": {},
   "outputs": [
    {
     "name": "stdout",
     "output_type": "stream",
     "text": [
      "CV accuracy scores: [0.81818182 0.80952381 0.80952381 0.76190476 0.76190476 0.85714286\n",
      " 0.9047619  0.85714286 0.76190476 0.95238095]\n",
      "CV accuracy: 0.829 +/- 0.061\n"
     ]
    }
   ],
   "source": [
    "clf = gs.best_estimator_\n",
    "scores = cross_val_score(estimator=clf, X=X_val, y=y_val, cv=10, n_jobs=1)\n",
    "print('CV accuracy scores: %s' % scores)\n",
    "print('CV accuracy: %.3f +/- %.3f' % (np.mean(scores), np.std(scores)))"
   ]
  },
  {
   "cell_type": "code",
   "execution_count": 32,
   "metadata": {},
   "outputs": [
    {
     "name": "stdout",
     "output_type": "stream",
     "text": [
      "Accuracy score: 0.891\n",
      "Precision score: 0.833\n",
      "Recall score: 0.845\n",
      "F1 score: 0.839\n",
      "Confusion Matrix: \n",
      "[[128  12]\n",
      " [ 11  60]]\n"
     ]
    }
   ],
   "source": [
    "y_pred = clf.predict(X_test)\n",
    "print('Accuracy score: %.3f' % accuracy_score(y_test, y_pred))\n",
    "print('Precision score: %.3f' % precision_score(y_test, y_pred))\n",
    "print('Recall score: %.3f' % recall_score(y_test, y_pred))\n",
    "print('F1 score: %.3f' % f1_score(y_test, y_pred))\n",
    "print('Confusion Matrix: ')\n",
    "print(confusion_matrix(y_test, y_pred))"
   ]
  }
 ],
 "metadata": {
  "kernelspec": {
   "display_name": "Python 3",
   "language": "python",
   "name": "python3"
  },
  "language_info": {
   "codemirror_mode": {
    "name": "ipython",
    "version": 3
   },
   "file_extension": ".py",
   "mimetype": "text/x-python",
   "name": "python",
   "nbconvert_exporter": "python",
   "pygments_lexer": "ipython3",
   "version": "3.7.0"
  }
 },
 "nbformat": 4,
 "nbformat_minor": 2
}
